{
 "cells": [
  {
   "cell_type": "code",
   "execution_count": null,
   "id": "d4567d53-dd91-4cfe-8a98-04c0dd688a0a",
   "metadata": {},
   "outputs": [],
   "source": [
    "spark"
   ]
  },
  {
   "cell_type": "code",
   "execution_count": null,
   "id": "23f47850-4562-466c-810c-14a462b253a0",
   "metadata": {},
   "outputs": [],
   "source": [
    "print(\"Test notebook\")"
   ]
  },
  {
   "cell_type": "code",
   "execution_count": null,
   "id": "2085ee18-9575-452c-ba4c-5ce0bb397997",
   "metadata": {},
   "outputs": [],
   "source": [
    "%%info"
   ]
  },
  {
   "cell_type": "code",
   "execution_count": null,
   "id": "8eae09de-580b-406a-b1ed-52854ae0b4d5",
   "metadata": {},
   "outputs": [],
   "source": [
    "# Importing necessary libraries from PySpark\n",
    "from pyspark.sql import SparkSession\n",
    "from pyspark.sql.functions import col, avg\n",
    "\n",
    "# Sample data for creating a DataFrame\n",
    "data = [(\"James\", \"Sales\", 3000),\n",
    "        (\"Michael\", \"Sales\", 4600),\n",
    "        (\"Robert\", \"Sales\", 4100),\n",
    "        (\"Maria\", \"Finance\", 3000),\n",
    "        (\"James\", \"Sales\", 3000),\n",
    "        (\"Scott\", \"Finance\", 3300),\n",
    "        (\"Jen\", \"Finance\", 3900),\n",
    "        (\"Jeff\", \"Marketing\", 3000),\n",
    "        (\"Kumar\", \"Marketing\", 2000),\n",
    "        (\"Saif\", \"Sales\", 4100)]\n",
    "\n",
    "# Defining the schema for the DataFrame\n",
    "columns = [\"Employee Name\", \"Department\", \"Salary\"]\n",
    "\n",
    "# Creating a DataFrame\n",
    "df = spark.createDataFrame(data, schema=columns)\n",
    "\n",
    "# Showing the initial DataFrame\n",
    "df.show()\n",
    "\n",
    "# Performing a group by operation\n",
    "department_avg_salary = df.groupBy(\"Department\").agg(avg(col(\"Salary\")).alias(\"Avg Salary\"))\n",
    "\n",
    "# Showing the result of the group by operation\n",
    "department_avg_salary.show()"
   ]
  }
 ],
 "metadata": {
  "kernelspec": {
   "display_name": "PySpark",
   "language": "python",
   "name": "pysparkkernel"
  },
  "language_info": {
   "codemirror_mode": {
    "name": "python",
    "version": 3
   },
   "file_extension": ".py",
   "mimetype": "text/x-python",
   "name": "pyspark",
   "pygments_lexer": "python3"
  }
 },
 "nbformat": 4,
 "nbformat_minor": 5
}
